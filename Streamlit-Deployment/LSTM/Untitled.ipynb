{
 "cells": [
  {
   "cell_type": "code",
   "execution_count": 1,
   "id": "d832c1e8-2fd1-45bf-bf59-2b3c1c1e61f4",
   "metadata": {},
   "outputs": [],
   "source": [
    "## Hello"
   ]
  },
  {
   "cell_type": "code",
   "execution_count": null,
   "id": "5893c984-634b-4cf6-b533-0f85c118cee2",
   "metadata": {},
   "outputs": [],
   "source": []
  }
 ],
 "metadata": {
  "kernelspec": {
   "display_name": "Python 3 (ipykernel)",
   "language": "python",
   "name": "python3"
  },
  "language_info": {
   "codemirror_mode": {
    "name": "ipython",
    "version": 3
   },
   "file_extension": ".py",
   "mimetype": "text/x-python",
   "name": "python",
   "nbconvert_exporter": "python",
   "pygments_lexer": "ipython3",
   "version": "3.12.4"
  }
 },
 "nbformat": 4,
 "nbformat_minor": 5
}
